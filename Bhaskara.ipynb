{
 "cells": [
  {
   "cell_type": "markdown",
   "metadata": {},
   "source": [
    "# Bhaskara\n",
    "\n",
    "Toda a Matemática (e consequentemente o algoritmo) vem da Filosofia, do pensamento. Temos, então que traçar uma linha de raciocínio para resolver os problemas.\n",
    "\n",
    "Todo o programa (algoritmo) é um conjunto de passos para resolver um problema.\n",
    "\n",
    "No caso, nosso problema é: como fazer um algoritmo para Bhaskara?\n",
    "\n",
    "Bom, primeiro precisamos da famosa fórmula, deste astrólogo e matemático indiano:\n",
    "```\n",
    "x' = (-b + sqrt(b*b - 4*a*c) / 2*a\n",
    "\n",
    "x'' = (-b - sqrt(b*b - 4*a*c) / 2*a\n",
    "```\n",
    "onde a, b e c são os coeficientes (variáveis) da fórmula e \"sqrt\" é a função para aplicação da raiz quadrada.\n",
    "\n",
    "(Observa que o cálculo que mostraste não tinha a variável \"c\" nem o último \"a\").\n",
    "\n",
    "Bom, para fazer o cálculo precisamos de a, b e c. Beleza, como conseguimos? Pedimos para o usuário.\n",
    "\n",
    "Tá, o que significa \"pedir para o usuário\"? Bom, numa linguagem de programação, podemos escrever uma mensagem na tela e esperar que o usuário digite algo no teclado.\n",
    "\n",
    "Para nossa sorte, na linguagem de programação Python isso é feito apenas no comando \"input\".\n",
    "\n",
    "Por exemplo, para ler o *a*, podemos fazer assim:\n",
    "\n"
   ]
  },
  {
   "cell_type": "code",
   "execution_count": 1,
   "metadata": {
    "collapsed": false
   },
   "outputs": [
    {
     "name": "stdout",
     "output_type": "stream",
     "text": [
      "Digite o coeficiente a: 2\n"
     ]
    }
   ],
   "source": [
    "a = int(input(\"Digite o coeficiente a: \"))"
   ]
  },
  {
   "cell_type": "markdown",
   "metadata": {},
   "source": [
    "Agora a leitura do *b*:"
   ]
  },
  {
   "cell_type": "code",
   "execution_count": 3,
   "metadata": {
    "collapsed": false
   },
   "outputs": [
    {
     "name": "stdout",
     "output_type": "stream",
     "text": [
      "Digite o coeficiente b: 3\n"
     ]
    }
   ],
   "source": [
    "b = int(input(\"Digite o coeficiente b: \"))"
   ]
  },
  {
   "cell_type": "markdown",
   "metadata": {},
   "source": [
    "E a leitura do *c*:"
   ]
  },
  {
   "cell_type": "code",
   "execution_count": null,
   "metadata": {
    "collapsed": true
   },
   "outputs": [],
   "source": []
  }
 ],
 "metadata": {
  "kernelspec": {
   "display_name": "Python 3",
   "language": "python",
   "name": "python3"
  },
  "language_info": {
   "codemirror_mode": {
    "name": "ipython",
    "version": 3
   },
   "file_extension": ".py",
   "mimetype": "text/x-python",
   "name": "python",
   "nbconvert_exporter": "python",
   "pygments_lexer": "ipython3",
   "version": "3.5.1"
  }
 },
 "nbformat": 4,
 "nbformat_minor": 1
}
