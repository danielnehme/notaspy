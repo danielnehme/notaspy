{
 "cells": [
  {
   "cell_type": "markdown",
   "metadata": {},
   "source": [
    "# Fazendo Bhaskara \n",
    "\n",
    "```\n",
    "                        Prof. Daniel Nehme Müller\n",
    "```\n",
    "Toda a Matemática (e consequentemente o algoritmo) vem da Filosofia, do pensamento. Temos, então que traçar uma linha de raciocínio para resolver os problemas.\n",
    "\n",
    "Todo o programa (algoritmo) é um conjunto de passos para resolver um problema.\n",
    "\n",
    "No caso, nosso problema é: como fazer um algoritmo para Bhaskara?\n",
    "\n",
    "Bom, primeiro precisamos da famosa fórmula, deste astrólogo e matemático indiano:\n",
    "```\n",
    "x' = (-b + (b*b - 4*a*c)**0.5) / 2*a\n",
    "\n",
    "x'' = (-b - (b*b - 4*a*c)**0.5) / 2*a\n",
    "```\n",
    "onde *a*, *b* e *c* são os coeficientes (variáveis) da fórmula e os dois asteriscos com 0.5 é a elevação à potência 0.5, que tem o mesmo efeito da aplicação de uma raiz quadrada.\n",
    "\n",
    "Bom, para fazer o cálculo precisamos de *a*, *b* e *c*. Beleza, como conseguimos? Pedimos para o usuário.\n",
    "\n",
    "Tá, o que significa *pedir para o usuário*? Bom, numa linguagem de programação, podemos escrever uma mensagem na tela e esperar que o usuário digite algo no teclado. Também chamamos isso de **entrada**. \n",
    "\n",
    "Para nossa sorte, na linguagem de programação Python isso é feito com uma simples instrução **_input_**.\n",
    "\n",
    "Por exemplo, para ler o *a*, podemos fazer assim:"
   ]
  },
  {
   "cell_type": "code",
   "execution_count": 107,
   "metadata": {
    "collapsed": false
   },
   "outputs": [
    {
     "name": "stdout",
     "output_type": "stream",
     "text": [
      "Digite o coeficiente a: 1\n"
     ]
    }
   ],
   "source": [
    "a = int(input(\"Digite o coeficiente a: \"))"
   ]
  },
  {
   "cell_type": "markdown",
   "metadata": {},
   "source": [
    "Agora a leitura do *b*:"
   ]
  },
  {
   "cell_type": "code",
   "execution_count": 108,
   "metadata": {
    "collapsed": false
   },
   "outputs": [
    {
     "name": "stdout",
     "output_type": "stream",
     "text": [
      "Digite o coeficiente b: -3\n"
     ]
    }
   ],
   "source": [
    "b = int(input(\"Digite o coeficiente b: \"))"
   ]
  },
  {
   "cell_type": "markdown",
   "metadata": {},
   "source": [
    "E a leitura do *c*:"
   ]
  },
  {
   "cell_type": "code",
   "execution_count": 109,
   "metadata": {
    "collapsed": false
   },
   "outputs": [
    {
     "name": "stdout",
     "output_type": "stream",
     "text": [
      "Digite o coeficiente c: -2\n"
     ]
    }
   ],
   "source": [
    "c = int(input(\"Digite o coeficiente c: \")) "
   ]
  },
  {
   "cell_type": "markdown",
   "metadata": {},
   "source": [
    "Pronto. Pegamos os coeficientes, agora podemos fazer a fórmula:"
   ]
  },
  {
   "cell_type": "code",
   "execution_count": 110,
   "metadata": {
    "collapsed": false
   },
   "outputs": [],
   "source": [
    "x1 = (-b + (b*b - 4*a*c)**0.5) / 2*a"
   ]
  },
  {
   "cell_type": "code",
   "execution_count": 111,
   "metadata": {
    "collapsed": true
   },
   "outputs": [],
   "source": [
    "x2 = (-b - (b*b - 4*a*c)**0.5) / 2*a"
   ]
  },
  {
   "cell_type": "markdown",
   "metadata": {},
   "source": [
    "Essa foi a fase do **processamento**. Agora vamos fazer a **saída** de dados.\n",
    "Para mostrar o resultado ao usuário do programa, precisamos de uma instrução python que mostre os dados na tela, que é o famoso **_print_**:"
   ]
  },
  {
   "cell_type": "code",
   "execution_count": 112,
   "metadata": {
    "collapsed": false
   },
   "outputs": [
    {
     "name": "stdout",
     "output_type": "stream",
     "text": [
      "As raízes obtidas no cálculo bhaskara foram 3.56 e -0.56.\n"
     ]
    }
   ],
   "source": [
    "print(\"As raízes obtidas no cálculo bhaskara foram %.2f e %.2f.\"%(x1,x2))  "
   ]
  },
  {
   "cell_type": "markdown",
   "metadata": {},
   "source": [
    "Apenas para ilustrar, termino usando um código baseado em https://usandopython.blogspot.com.br/2016/06/formula-de-bhaskara-com-python-parte-3.html"
   ]
  },
  {
   "cell_type": "code",
   "execution_count": 113,
   "metadata": {
    "collapsed": false
   },
   "outputs": [
    {
     "data": {
      "image/png": "[encoded data removed]",
      "text/plain": [
       "<matplotlib.figure.Figure at 0x7f4aaac111d0>"
      ]
     },
     "metadata": {},
     "output_type": "display_data"
    }
   ],
   "source": [
    "# Adicionamos bibliotecas gráficas\n",
    "import matplotlib.pyplot as plt\n",
    "import numpy as np\n",
    "\n",
    "# Criamos um intervalo de valores para plotar.\n",
    "if x1 <= x2:\n",
    "    x = np.arange(x1-3,x2+3, 0.01)\n",
    "else:\n",
    "    x = np.arange(x2-3,x1+3, 0.01)\n",
    "np.set_printoptions(suppress=True)\n",
    "# Y recebe os valores de x para criar o intervalo do eixo Y.\n",
    "y = (a * (x ** 2)) + (b * x) + c\n",
    "# Criando o gráfico.\n",
    "fig = plt.figure()\n",
    "ax = fig.add_subplot(111)\n",
    "ax.plot(x, y)\n",
    "plt.title('Formula de Bhaskara')\n",
    "plt.xlabel('Eixo x')\n",
    "plt.ylabel('Eixo y')\n",
    "plt.grid(True)\n",
    "plt.axhline()\n",
    "plt.axvline()\n",
    "plt.axis((-2, 5, -6, 2))\n",
    "plt.show()"
   ]
  },
  {
   "cell_type": "markdown",
   "metadata": {},
   "source": [
    "Era isso. Espero que tenham gostado! \n",
    "Abraços! "
   ]
  }
 ],
 "metadata": {
  "kernelspec": {
   "display_name": "Python 3",
   "language": "python",
   "name": "python3"
  },
  "language_info": {
   "codemirror_mode": {
    "name": "ipython",
    "version": 3
   },
   "file_extension": ".py",
   "mimetype": "text/x-python",
   "name": "python",
   "nbconvert_exporter": "python",
   "pygments_lexer": "ipython3",
   "version": "3.5.1"
  }
 },
 "nbformat": 4,
 "nbformat_minor": 1
}
