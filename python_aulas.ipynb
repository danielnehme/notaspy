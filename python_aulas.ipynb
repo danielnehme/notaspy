{
 "cells": [
  {
   "cell_type": "markdown",
   "metadata": {},
   "source": [
    "# Lógica de Programação \n",
    "## Notas de Aula sobre Python\n",
    "```\n",
    "                        Prof. Daniel Nehme Müller\n",
    "```\n",
    "#### Primeira versão em 30/03/2016\n",
    "#### Última atualização em 02/06/2017\n",
    "##### Python versão 3.5.3\n",
    "\n",
    "## Apresentação\n",
    "Estas *Notas de Aula sobre Python* são um guia para as aulas de Lógica de Programação que envolvem a linguagem Python. Aqui são apresentadas as instruções básicas da linguagem, de forma a permitir uma referência rápida e prática no uso diário em programação.\n",
    "Para cada conjunto de instruções são apresentados exemplos para ilustrar sua funcionalidade. A leitura deste material necessita de acompanhamento junto ao console python ou editor integrado, de forma ao leitor exercitar a fixação do conteúdo.\n",
    "\n",
    "## Sumário:\n",
    "1. [Entrada e Saída de Dados](#1.-Entrada-e-Saída-de-Dados)\n",
    "2. [Tipos de Dados](#2.-Tipos-de-Dados)\n",
    "3. [Instruções Condicionais](#3.-Instruções-Condicionais)\n",
    "4. [Instruções de Repetição](#4.-Instruções-de-Repetição)\n",
    "5. [Funções](#5.-Funções)\n",
    "6. [Exercícios](#6.-Exercícios)\n",
    "7. [Referências](#7.-Referências)\n",
    "\n",
    "## 1. Entrada e Saída de Dados \n",
    "Os programas básicos de computador exigem entrada e saída de dados pelo usuário. Assim, temos instruções para leitura de teclado e impressão em tela.\n",
    "### 1.1. Entrada de teclado - input()\n",
    "Para lermos um dado do teclado, usamos a instrução input(), usando uma forma genérica:\n",
    "```\n",
    "variável = input(\"Texto de Entrada\")\n",
    "```\n",
    "Exemplo:"
   ]
  },
  {
   "cell_type": "code",
   "execution_count": 1,
   "metadata": {
    "scrolled": true
   },
   "outputs": [
    {
     "name": "stdout",
     "output_type": "stream",
     "text": [
      "Digite uma palavra: teste\n"
     ]
    }
   ],
   "source": [
    "palavra = input(\"Digite uma palavra: \")"
   ]
  },
  {
   "cell_type": "markdown",
   "metadata": {},
   "source": [
    "No exemplo acima, como se pode observar, o texto escrito entre aspas aparece na tela, e é esperado que o usuário digite um número e tecle *enter*. O valor digitado será armazenado na variável *num*, para ser usado posteriormente. Uma variável é um local de memória usado para armazenar valores e textos.\n",
    "\n",
    "### 1.2. Saída em tela - print()\n",
    "A apresentação de dados é feita pela instrução print(), que pode ser descrita desta forma:\n",
    "\n",
    "    print(\"Texto de Saída\")\n",
    "\n",
    "Exemplo:"
   ]
  },
  {
   "cell_type": "code",
   "execution_count": 2,
   "metadata": {},
   "outputs": [
    {
     "name": "stdout",
     "output_type": "stream",
     "text": [
      "A palavra digitada foi: teste\n"
     ]
    }
   ],
   "source": [
    "print(\"A palavra digitada foi:\",palavra)"
   ]
  },
  {
   "cell_type": "markdown",
   "metadata": {},
   "source": [
    "A variável *palavra*, que recebeu o conteúdo na instrução *input*, foi agora usada para ser impressa na tela após o texto. Observa-se assim que podemos apresentar tanto textos, que estão entre aspas, quanto variáveis, cujo conteúdo não conhecemos previamente."
   ]
  },
  {
   "cell_type": "markdown",
   "metadata": {},
   "source": [
    "## 2. Tipos de Dados\n",
    "Em programação, os dados são armazenados em variáveis. Em Python, as variáveis podem ser números, textos ou listas.\n",
    "\n",
    "> Obs. 1: Os nomes de variáveis podem conter letras, números e sublinhado, mas nao podem iniciar com número!\n",
    "\n",
    "> Obs. 2: Nomes de variáveis não podem ter espaços, mas podem ser compostos com sublinhado, como nome_variavel.\n",
    "\n",
    "> Obs. 3: Evite colocar acentos ou cedilha em variáveis, sob o risco não ser legível entre computadores ou sistemas que não trabalham com estes caracteres.\n",
    "\n",
    "### 2.1. Números\n",
    "Podem ser:\n",
    "* Inteiro (int)\n",
    "* Real, com ponto flutuante (float)\n",
    "* Complexo (complex)\n",
    "\n",
    "\n",
    "#### Exemplos\n",
    "Seja uma variável inteiro *num*:"
   ]
  },
  {
   "cell_type": "code",
   "execution_count": 3,
   "metadata": {},
   "outputs": [
    {
     "name": "stdout",
     "output_type": "stream",
     "text": [
      "Um valor inteiro: 5\n"
     ]
    }
   ],
   "source": [
    "num = 5\n",
    "print(\"Um valor inteiro:\",num)"
   ]
  },
  {
   "cell_type": "markdown",
   "metadata": {},
   "source": [
    "Ou outra variável fracionária *valor*:"
   ]
  },
  {
   "cell_type": "code",
   "execution_count": 4,
   "metadata": {},
   "outputs": [
    {
     "name": "stdout",
     "output_type": "stream",
     "text": [
      "Um valor real: 3.14\n"
     ]
    }
   ],
   "source": [
    "valor = 3.14\n",
    "print(\"Um valor real:\",valor)"
   ]
  },
  {
   "cell_type": "markdown",
   "metadata": {},
   "source": [
    "E ainda uma variável complexa *comp*:"
   ]
  },
  {
   "cell_type": "code",
   "execution_count": 5,
   "metadata": {},
   "outputs": [
    {
     "name": "stdout",
     "output_type": "stream",
     "text": [
      "Um valor complexo: (3+4j)\n"
     ]
    }
   ],
   "source": [
    "comp= 3+4j\n",
    "print(\"Um valor complexo:\",comp)"
   ]
  },
  {
   "cell_type": "markdown",
   "metadata": {},
   "source": [
    "A variável complexa também pode ser impressa separando a parte real da imaginária, usando\n",
    "\n",
    "    comp.real\n",
    "    comp.imag\n",
    "    \n",
    "Para imprimir as partes real e imaginária da variável complexa do exemplo anterior, temos:"
   ]
  },
  {
   "cell_type": "code",
   "execution_count": 6,
   "metadata": {},
   "outputs": [
    {
     "name": "stdout",
     "output_type": "stream",
     "text": [
      "Apenas a parte real: 3.0  e apenas a parte imaginária: 4.0\n"
     ]
    }
   ],
   "source": [
    "print(\"Apenas a parte real:\",comp.real,\" e apenas a parte imaginária:\",comp.imag)"
   ]
  },
  {
   "cell_type": "markdown",
   "metadata": {},
   "source": [
    "#### Trocar tipos de números\n",
    "\n",
    "É possível passar um *float* para *int*, usando a função \n",
    "\n",
    "    int(valor_float)\n",
    "    \n",
    "O exemplo a seguir imprime uma conversão de real para inteiro: "
   ]
  },
  {
   "cell_type": "code",
   "execution_count": 7,
   "metadata": {},
   "outputs": [
    {
     "name": "stdout",
     "output_type": "stream",
     "text": [
      "O inteiro de 3.14 é 3\n"
     ]
    }
   ],
   "source": [
    "print(\"O inteiro de 3.14 é\",int(3.14))"
   ]
  },
  {
   "cell_type": "markdown",
   "metadata": {},
   "source": [
    "A conversão inversa pode ser feita com a função\n",
    "\n",
    "    float(valor_int)\n",
    "    \n",
    "Para imprimir um valor inteiro como real podemos seguir o exemplo:"
   ]
  },
  {
   "cell_type": "code",
   "execution_count": 8,
   "metadata": {},
   "outputs": [
    {
     "name": "stdout",
     "output_type": "stream",
     "text": [
      "O real de 5 é 5.0\n"
     ]
    }
   ],
   "source": [
    "print(\"O real de 5 é\",float(5))"
   ]
  },
  {
   "cell_type": "markdown",
   "metadata": {},
   "source": [
    "### 2.2. Operadores Aritméticos\n",
    "\n",
    "Para operações com números, utilizamos os tradicionais operadores oriundos da Matemática, com a diferença dos símbolos de divisão, que passa a ser o barra (/) e multiplicação, que passa ser asterisco (*).\n",
    "\n",
    "Há outros operadores que na matemática tradicional não possuem símbolos, como o resto da divisão inteira, que aqui será o percentual (%), e a potenciação, que aqui será dois asteriscos (**).\n",
    "* soma (+)"
   ]
  },
  {
   "cell_type": "code",
   "execution_count": 9,
   "metadata": {},
   "outputs": [
    {
     "name": "stdout",
     "output_type": "stream",
     "text": [
      "Soma: 3 + 2 = 5\n"
     ]
    }
   ],
   "source": [
    "print(\"Soma: 3 + 2 =\",3+2)"
   ]
  },
  {
   "cell_type": "markdown",
   "metadata": {},
   "source": [
    "* subtração (-)"
   ]
  },
  {
   "cell_type": "code",
   "execution_count": 10,
   "metadata": {},
   "outputs": [
    {
     "name": "stdout",
     "output_type": "stream",
     "text": [
      "Subração: 3 - 2 = 1\n"
     ]
    }
   ],
   "source": [
    "print(\"Subração: 3 - 2 =\",3-2)"
   ]
  },
  {
   "cell_type": "markdown",
   "metadata": {},
   "source": [
    "* multiplicação (*)"
   ]
  },
  {
   "cell_type": "code",
   "execution_count": 11,
   "metadata": {},
   "outputs": [
    {
     "name": "stdout",
     "output_type": "stream",
     "text": [
      "Multiplicação: 3 * 2 = 6\n"
     ]
    }
   ],
   "source": [
    "print(\"Multiplicação: 3 * 2 =\",3*2)"
   ]
  },
  {
   "cell_type": "markdown",
   "metadata": {},
   "source": [
    "* divisão (/)"
   ]
  },
  {
   "cell_type": "code",
   "execution_count": 12,
   "metadata": {},
   "outputs": [
    {
     "name": "stdout",
     "output_type": "stream",
     "text": [
      "Divisão: 3 / 2 = 1.5\n"
     ]
    }
   ],
   "source": [
    "print(\"Divisão: 3 / 2 =\",3/2)"
   ]
  },
  {
   "cell_type": "markdown",
   "metadata": {},
   "source": [
    "* divisão resultando apenas a parte inteira - *trunc* (//)"
   ]
  },
  {
   "cell_type": "code",
   "execution_count": 13,
   "metadata": {},
   "outputs": [
    {
     "name": "stdout",
     "output_type": "stream",
     "text": [
      "Divisão truncada: 3 // 2 = 1\n"
     ]
    }
   ],
   "source": [
    "print(\"Divisão truncada: 3 // 2 =\",3//2)"
   ]
  },
  {
   "cell_type": "markdown",
   "metadata": {},
   "source": [
    "* resto da divisão inteira - *mod* (%)"
   ]
  },
  {
   "cell_type": "code",
   "execution_count": 14,
   "metadata": {},
   "outputs": [
    {
     "name": "stdout",
     "output_type": "stream",
     "text": [
      "Módulo (resto) da divisão 3 % 2 = 1\n"
     ]
    }
   ],
   "source": [
    "print(\"Módulo (resto) da divisão 3 % 2 =\",3%2)"
   ]
  },
  {
   "cell_type": "markdown",
   "metadata": {},
   "source": [
    "* potenciação (**)"
   ]
  },
  {
   "cell_type": "code",
   "execution_count": 15,
   "metadata": {},
   "outputs": [
    {
     "name": "stdout",
     "output_type": "stream",
     "text": [
      "Potenciação: 3 ** 2 = 9\n"
     ]
    }
   ],
   "source": [
    "print(\"Potenciação: 3 ** 2 =\",3**2)"
   ]
  },
  {
   "cell_type": "markdown",
   "metadata": {},
   "source": [
    "#### 2.2.1. Operadores com atribuição (acumuladores)\n",
    "Todo operador visto nesta seção 2.2. é passível de uso com atribuição, o que torna a variável um acumulador. Isso quer dizer que o resultado de uma operação pode ser colocada no próprio operando.\n",
    "\n",
    "Por exemplo:"
   ]
  },
  {
   "cell_type": "code",
   "execution_count": 16,
   "metadata": {},
   "outputs": [
    {
     "name": "stdout",
     "output_type": "stream",
     "text": [
      "O resultado das somas sobre 'a' é 3\n"
     ]
    }
   ],
   "source": [
    "a = 1\n",
    "a = a + 1  # aqui a variável \"a\" está servindo de acumulador\n",
    "a += 1     # mesma operação da linha anterior, mas usando o formato contraído\n",
    "print(\"O resultado das somas sobre 'a' é\",a) "
   ]
  },
  {
   "cell_type": "markdown",
   "metadata": {},
   "source": [
    "O mesmo pode ser feito com os demais operadores aritméticos, ou seja, além de ***+=***, podem ser usados ***-=***, ___ *= ___, ***/=***, ***//=***, ***%=*** e ___**=___.\n",
    "\n",
    "Para maiores detalhes sobre operadores, veja [aqui](http://www.tutorialspoint.com/python3/python_basic_operators.htm)."
   ]
  },
  {
   "cell_type": "markdown",
   "metadata": {},
   "source": [
    "### 2.3. Textos (strings)\n",
    "São dados entre aspas simples ou duplas, normalmente compostos por uma ou mais palavras.\n",
    "\n",
    "Exemplo:"
   ]
  },
  {
   "cell_type": "code",
   "execution_count": 17,
   "metadata": {},
   "outputs": [
    {
     "name": "stdout",
     "output_type": "stream",
     "text": [
      "Conteúdo da variável 'demaior': maior de idade\n"
     ]
    }
   ],
   "source": [
    "demaior = \"maior de idade\"\n",
    "print(\"Conteúdo da variável 'demaior':\",demaior)"
   ]
  },
  {
   "cell_type": "markdown",
   "metadata": {},
   "source": [
    "Textos podem ser concatenados (unidos) com operadores de adição (+) ou multiplicaçao (*).\n",
    "\n",
    "Exemplo:"
   ]
  },
  {
   "cell_type": "code",
   "execution_count": 18,
   "metadata": {},
   "outputs": [
    {
     "name": "stdout",
     "output_type": "stream",
     "text": [
      "Tu és maior de idade\n"
     ]
    }
   ],
   "source": [
    "print(\"Tu és \"+demaior)"
   ]
  },
  {
   "cell_type": "code",
   "execution_count": 19,
   "metadata": {},
   "outputs": [
    {
     "name": "stdout",
     "output_type": "stream",
     "text": [
      "maior de idademaior de idademaior de idade\n"
     ]
    }
   ],
   "source": [
    "print(demaior*3)"
   ]
  },
  {
   "cell_type": "markdown",
   "metadata": {},
   "source": [
    "#### Formatação de impressão\n",
    "A impressão de textos pode ser formatada com o símbolo de porcentagem (%).\n",
    "\n",
    "Exemplo:"
   ]
  },
  {
   "cell_type": "code",
   "execution_count": 20,
   "metadata": {},
   "outputs": [
    {
     "name": "stdout",
     "output_type": "stream",
     "text": [
      "Tua idade é 18, portanto és maior de idade.\n"
     ]
    }
   ],
   "source": [
    "idade = 18\n",
    "print(\"Tua idade é %d, portanto és %s.\" % (idade,demaior))"
   ]
  },
  {
   "cell_type": "markdown",
   "metadata": {},
   "source": [
    "Os símbolos de formatação dependem do tipo de dados que estamos imprimindo. Assim, cada tipo tem uma forma diferente de apresentação:\n",
    "* string (cadeia de caracteres) - %s\n",
    "* dígito inteiro - %d\n",
    "* real (float) - %f\n",
    "* exponencial - %e"
   ]
  },
  {
   "cell_type": "markdown",
   "metadata": {},
   "source": [
    "Dica: para limitarmos o número de casas decimais na impressão de um valor real, podemos indicar por um ponto seguido do número de casas entre o **%** e o **f** do símbolo de formatação. Exemplo:"
   ]
  },
  {
   "cell_type": "code",
   "execution_count": 21,
   "metadata": {},
   "outputs": [
    {
     "name": "stdout",
     "output_type": "stream",
     "text": [
      "O resultado de 2/3 pode ser mostrado determinando as casas decimais (0.67) ou sem limitação específica (0.666667).\n"
     ]
    }
   ],
   "source": [
    "resp = 2/3\n",
    "print(\"O resultado de 2/3 pode ser mostrado determinando as casas decimais (%.2f) \\\n",
    "ou sem limitação específica (%f).\" % (resp,resp))"
   ]
  },
  {
   "cell_type": "markdown",
   "metadata": {},
   "source": [
    "### 2.4. Listas"
   ]
  },
  {
   "cell_type": "markdown",
   "metadata": {},
   "source": [
    "São coleções de dados de qualquer tipo, inclusive outras listas.\n",
    "\n",
    "Exemplo:"
   ]
  },
  {
   "cell_type": "code",
   "execution_count": 22,
   "metadata": {},
   "outputs": [
    {
     "name": "stdout",
     "output_type": "stream",
     "text": [
      "Lista com os dias da semana: ['segunda', 'terça', 'quarta', 'quinta', 'sexta', 'sábado', 'domingo']\n"
     ]
    }
   ],
   "source": [
    "semana = [\"segunda\",\"terça\",\"quarta\",\"quinta\",\"sexta\",\"sábado\",\"domingo\"]\n",
    "print(\"Lista com os dias da semana:\",semana)"
   ]
  },
  {
   "cell_type": "markdown",
   "metadata": {},
   "source": [
    "#### Lista com intervalo de números\n",
    "A função Python **range(x,y,z)** cria uma lista de inteiros que vai de **x** até **y-1**, opcionalmente saltando de **z** em **z**.\n",
    "\n",
    "Exemplo:"
   ]
  },
  {
   "cell_type": "code",
   "execution_count": 23,
   "metadata": {},
   "outputs": [
    {
     "name": "stdout",
     "output_type": "stream",
     "text": [
      "Lista com intervalo de 3: [0, 1, 2]\n"
     ]
    }
   ],
   "source": [
    "x = range(3)\n",
    "print(\"Lista com intervalo de 3:\",list(x))"
   ]
  },
  {
   "cell_type": "markdown",
   "metadata": {},
   "source": [
    "Observe que neste exemplo foi colocado apenas um número, que foi convertido automaticamente para um intervalo a partir de zero até o valor colocado. Atente ainda que a função *list()* - usada na impressão - mostra o conteúdo da lista formada por *range()*.\n",
    "\n",
    "Podemos determinar o início da lista:"
   ]
  },
  {
   "cell_type": "code",
   "execution_count": 24,
   "metadata": {},
   "outputs": [
    {
     "name": "stdout",
     "output_type": "stream",
     "text": [
      "Valores de uma lista de 2 a 5: [2, 3, 4, 5]\n"
     ]
    }
   ],
   "source": [
    "print(\"Valores de uma lista de 2 a 5:\",list(range(2,6)))"
   ]
  },
  {
   "cell_type": "markdown",
   "metadata": {
    "collapsed": true
   },
   "source": [
    "E ainda colocar saltos. Por exemplo, para uma lista de números pares:"
   ]
  },
  {
   "cell_type": "code",
   "execution_count": 25,
   "metadata": {},
   "outputs": [
    {
     "name": "stdout",
     "output_type": "stream",
     "text": [
      "Valores pares até 10: [0, 2, 4, 6, 8, 10]\n"
     ]
    }
   ],
   "source": [
    "print(\"Valores pares até 10:\",list(range(0,11,2)))"
   ]
  },
  {
   "cell_type": "markdown",
   "metadata": {},
   "source": [
    "#### Concatenação de listas\n",
    "As listas podem ser unidas com um sinal de adição. Por exemplo:"
   ]
  },
  {
   "cell_type": "code",
   "execution_count": 26,
   "metadata": {},
   "outputs": [
    {
     "name": "stdout",
     "output_type": "stream",
     "text": [
      "Lista com os dias da semana: ['segunda', 'terça', 'quarta', 'quinta', 'sexta', 'sábado', 'domingo']\n"
     ]
    }
   ],
   "source": [
    "parte1 = [\"segunda\",\"terça\",\"quarta\"]\n",
    "parte2 = [\"quinta\",\"sexta\",\"sábado\",\"domingo\"]\n",
    "print(\"Lista com os dias da semana:\",parte1+parte2)"
   ]
  },
  {
   "cell_type": "markdown",
   "metadata": {},
   "source": [
    "#### Fatiamento de listas\n",
    "Podemos acessar partes de listas apenas indicando o início e fim da posição dos elementos a serem apresentados, separados por dois pontos (:). Caso não seja indicado um número, entende-se que é a primeira posição ou a última.\n",
    "Exemplos:"
   ]
  },
  {
   "cell_type": "code",
   "execution_count": 27,
   "metadata": {},
   "outputs": [
    {
     "name": "stdout",
     "output_type": "stream",
     "text": [
      "['segunda', 'terça', 'quarta']\n"
     ]
    }
   ],
   "source": [
    "print(semana[:3])"
   ]
  },
  {
   "cell_type": "code",
   "execution_count": 28,
   "metadata": {},
   "outputs": [
    {
     "name": "stdout",
     "output_type": "stream",
     "text": [
      "['sábado', 'domingo']\n"
     ]
    }
   ],
   "source": [
    "print(semana[5:])"
   ]
  },
  {
   "cell_type": "code",
   "execution_count": 29,
   "metadata": {},
   "outputs": [
    {
     "name": "stdout",
     "output_type": "stream",
     "text": [
      "['quinta', 'sexta']\n"
     ]
    }
   ],
   "source": [
    "print(semana[3:5])"
   ]
  },
  {
   "cell_type": "markdown",
   "metadata": {},
   "source": [
    "Também pode ser feita uma contagem negativa, ou seja, a partir do final da lista.\n",
    "Exemplos:"
   ]
  },
  {
   "cell_type": "code",
   "execution_count": 30,
   "metadata": {},
   "outputs": [
    {
     "name": "stdout",
     "output_type": "stream",
     "text": [
      "['domingo']\n"
     ]
    }
   ],
   "source": [
    "print(semana[-1:])"
   ]
  },
  {
   "cell_type": "code",
   "execution_count": 31,
   "metadata": {},
   "outputs": [
    {
     "name": "stdout",
     "output_type": "stream",
     "text": [
      "['segunda', 'terça', 'quarta', 'quinta', 'sexta', 'sábado']\n"
     ]
    }
   ],
   "source": [
    "print(semana[:-1])"
   ]
  },
  {
   "cell_type": "code",
   "execution_count": 32,
   "metadata": {},
   "outputs": [
    {
     "name": "stdout",
     "output_type": "stream",
     "text": [
      "['quarta', 'quinta']\n"
     ]
    }
   ],
   "source": [
    "print(semana[2:-3])"
   ]
  },
  {
   "cell_type": "markdown",
   "metadata": {},
   "source": [
    "Os mesmos procedimentos podem ser aplicados a textos.\n",
    "Exemplos:"
   ]
  },
  {
   "cell_type": "code",
   "execution_count": 33,
   "metadata": {},
   "outputs": [
    {
     "name": "stdout",
     "output_type": "stream",
     "text": [
      "maior \n"
     ]
    }
   ],
   "source": [
    "print(demaior[:6])"
   ]
  },
  {
   "cell_type": "code",
   "execution_count": 34,
   "metadata": {},
   "outputs": [
    {
     "name": "stdout",
     "output_type": "stream",
     "text": [
      "idade\n"
     ]
    }
   ],
   "source": [
    "print(demaior[-5:])"
   ]
  },
  {
   "cell_type": "markdown",
   "metadata": {},
   "source": [
    "### 2.5. Operadores Lógicos\n",
    "Este tipo de operadores resultam em **verdadeiro** (*True*) ou **falso** (*False*). Podem ser aplicados sobre todos os tipos de dados: números, textos ou listas.\n",
    "\n",
    "#### 2.5.1. Relacionais\n",
    "Estes operadores servem para comparação entre dois operandos. São eles:\n",
    "* Menor (**<**)"
   ]
  },
  {
   "cell_type": "code",
   "execution_count": 35,
   "metadata": {},
   "outputs": [
    {
     "name": "stdout",
     "output_type": "stream",
     "text": [
      "True\n"
     ]
    }
   ],
   "source": [
    "print(1<2)"
   ]
  },
  {
   "cell_type": "markdown",
   "metadata": {},
   "source": [
    "* Maior (**>**)"
   ]
  },
  {
   "cell_type": "code",
   "execution_count": 36,
   "metadata": {},
   "outputs": [
    {
     "name": "stdout",
     "output_type": "stream",
     "text": [
      "False\n"
     ]
    }
   ],
   "source": [
    "print(1>2)"
   ]
  },
  {
   "cell_type": "markdown",
   "metadata": {},
   "source": [
    "* Menor ou igual (**<=**)"
   ]
  },
  {
   "cell_type": "code",
   "execution_count": 37,
   "metadata": {},
   "outputs": [
    {
     "name": "stdout",
     "output_type": "stream",
     "text": [
      "True\n"
     ]
    }
   ],
   "source": [
    "print(1<=2)"
   ]
  },
  {
   "cell_type": "markdown",
   "metadata": {},
   "source": [
    "* Maior ou igual (**>=**)"
   ]
  },
  {
   "cell_type": "code",
   "execution_count": 38,
   "metadata": {},
   "outputs": [
    {
     "name": "stdout",
     "output_type": "stream",
     "text": [
      "False\n"
     ]
    }
   ],
   "source": [
    "print(1>=2)"
   ]
  },
  {
   "cell_type": "markdown",
   "metadata": {},
   "source": [
    "* Igual (**==**)"
   ]
  },
  {
   "cell_type": "code",
   "execution_count": 39,
   "metadata": {},
   "outputs": [
    {
     "name": "stdout",
     "output_type": "stream",
     "text": [
      "False\n"
     ]
    }
   ],
   "source": [
    "print(1==2)"
   ]
  },
  {
   "cell_type": "markdown",
   "metadata": {},
   "source": [
    "* Diferente (**!=**)"
   ]
  },
  {
   "cell_type": "code",
   "execution_count": 40,
   "metadata": {},
   "outputs": [
    {
     "name": "stdout",
     "output_type": "stream",
     "text": [
      "True\n"
     ]
    }
   ],
   "source": [
    "print(1!=2)"
   ]
  },
  {
   "cell_type": "markdown",
   "metadata": {},
   "source": [
    "#### 2.5.2. Booleanos\n",
    "Há operadores lógicos que vêm da álgebra binária (ou *booleana*), criados especificamente para operações de verdadeiro/falso. São eles o **E**, **OU** e **NÃO**. A propriedade da operação **E** é sinalizar *verdadeiro* apenas quando ambos operandos forem verdadeiros. A operação **OU** resulta *falso* apenas quando ambos operadores forem falsos. O operador **NÃO** inverte o valor, se falso passa a verdadeiro e vice-versa.\n",
    "\n",
    "Exemplos:\n",
    "* Operador **NÃO** (***not***)"
   ]
  },
  {
   "cell_type": "code",
   "execution_count": 41,
   "metadata": {},
   "outputs": [
    {
     "name": "stdout",
     "output_type": "stream",
     "text": [
      "False\n"
     ]
    }
   ],
   "source": [
    "a = True\n",
    "b = False\n",
    "print(not a)"
   ]
  },
  {
   "cell_type": "markdown",
   "metadata": {},
   "source": [
    "***Observação:*** o operador ***not*** pode ser usado em conjunto com qualquer outra operação lógica, basta colocá-lo na frente da expressão para inverter o resultado."
   ]
  },
  {
   "cell_type": "markdown",
   "metadata": {},
   "source": [
    "* Operador **E** (***and***)"
   ]
  },
  {
   "cell_type": "code",
   "execution_count": 42,
   "metadata": {},
   "outputs": [
    {
     "name": "stdout",
     "output_type": "stream",
     "text": [
      "False\n"
     ]
    }
   ],
   "source": [
    "print(a and b)"
   ]
  },
  {
   "cell_type": "markdown",
   "metadata": {},
   "source": [
    "* Operador **OU** (***or***)"
   ]
  },
  {
   "cell_type": "code",
   "execution_count": 43,
   "metadata": {},
   "outputs": [
    {
     "name": "stdout",
     "output_type": "stream",
     "text": [
      "True\n"
     ]
    }
   ],
   "source": [
    "print(a or b)"
   ]
  },
  {
   "cell_type": "markdown",
   "metadata": {},
   "source": [
    "#### 2.5.3. Pertence\n",
    "A operação de **pertencimento** ou **inclusão** (*in*) é usada para saber se um elemento está dentro de uma lista.\n",
    "\n",
    "Por exemplo:"
   ]
  },
  {
   "cell_type": "code",
   "execution_count": 44,
   "metadata": {},
   "outputs": [
    {
     "name": "stdout",
     "output_type": "stream",
     "text": [
      "O conteúdo de 'a' está na lista 'k'? True\n",
      "O conteúdo de 'b' está na lista 'k'? False\n"
     ]
    }
   ],
   "source": [
    "a = 2\n",
    "b = 7\n",
    "k = range(5)\n",
    "print(\"O conteúdo de 'a' está na lista 'k'?\",a in k)\n",
    "print(\"O conteúdo de 'b' está na lista 'k'?\",b in k)"
   ]
  },
  {
   "cell_type": "markdown",
   "metadata": {},
   "source": [
    "#### 2.5.4. Identidade\n",
    "A operação de **comparação de identidade** (*is*) é utilizada para verificar se a variável tem o mesmo endereço de memória de outra variável.\n",
    "\n",
    "Neste exemplo verifica-se que não é o mesmo que o operador de igualdade (*==*):"
   ]
  },
  {
   "cell_type": "code",
   "execution_count": 45,
   "metadata": {},
   "outputs": [
    {
     "name": "stdout",
     "output_type": "stream",
     "text": [
      "As variáveis 'x' e 'y' são iguais? True\n",
      "As variáveis 'x' e 'y' têm a mesma identidade? False\n",
      "Identidade de 'x' é 140327793678152 e 'y' é 140327793653000.\n"
     ]
    }
   ],
   "source": [
    "x = ['a','b','c']\n",
    "y = ['a','b','c']\n",
    "print(\"As variáveis 'x' e 'y' são iguais?\",x==y)\n",
    "print(\"As variáveis 'x' e 'y' têm a mesma identidade?\",x is y)\n",
    "print(\"Identidade de 'x' é %d e 'y' é %d.\" % (id(x),id(y)))"
   ]
  },
  {
   "cell_type": "markdown",
   "metadata": {},
   "source": [
    "Agora digamos que outra variável recebe um conteúdo já existente:"
   ]
  },
  {
   "cell_type": "code",
   "execution_count": 46,
   "metadata": {},
   "outputs": [
    {
     "name": "stdout",
     "output_type": "stream",
     "text": [
      "As variáveis 'x' e 'z' são iguais? True\n",
      "As variáveis 'x' e 'z' têm a mesma identidade? True\n",
      "Identidade de 'x' é 140327793678152 e 'z' é 140327793678152.\n"
     ]
    }
   ],
   "source": [
    "z = x\n",
    "print(\"As variáveis 'x' e 'z' são iguais?\",x==z)\n",
    "print(\"As variáveis 'x' e 'z' têm a mesma identidade?\",x is z)\n",
    "print(\"Identidade de 'x' é %d e 'z' é %d.\" % (id(x),id(z)))"
   ]
  },
  {
   "cell_type": "markdown",
   "metadata": {},
   "source": [
    "Isso acontece porque as variáveis *x* e *z* apontam para a mesma área de memória. A variável *y*, apesar de ter o mesmo conteúdo, tem este armazenado em outra parte da memória do computador.\n",
    "\n",
    "#### 2.5.5. Outros operadores\n",
    "\n",
    "Há ainda os operadores *a nível de bit*, mas não serão tratados aqui. Para maiores detalhes, [siga este link](http://www.tutorialspoint.com/python3/python_basic_operators.htm).\n",
    "\n",
    "Caso exista interesses em operações mais avançadas, [acesse este link](http://www.python-course.eu/python3_re.php) para seguir adiante."
   ]
  },
  {
   "cell_type": "markdown",
   "metadata": {},
   "source": [
    "## 3. Instruções Condicionais\n",
    "São aquelas instruções Python usadas para teste e desvio de fluxo de operações. Usa o princípio da lógica *se... então... senão...*. Exemplificando de uma forma genérica:\n",
    "```\n",
    "    if <condição>:\n",
    "        <código>\n",
    "    elif <condição>:\n",
    "        <código>\n",
    "    else:\n",
    "        <código>\n",
    "```\n",
    "sendo que *elif* e *else* são opcionais. O segmento *elif* (*senão... se...*) é o mesmo que colocar:\n",
    "```\n",
    "    else: \n",
    "        if <condição>:\n",
    "            <código>\n",
    "```\n",
    "o que reduz em uma linha o trecho de código.\n",
    "\n",
    "Exemplo:"
   ]
  },
  {
   "cell_type": "code",
   "execution_count": 47,
   "metadata": {},
   "outputs": [
    {
     "name": "stdout",
     "output_type": "stream",
     "text": [
      "Qual sua idade? 21\n",
      "Sua idade é 21, portanto és maior de idade.\n"
     ]
    }
   ],
   "source": [
    "idade = int(input(\"Qual sua idade? \"))\n",
    "if idade >= 18:\n",
    "    resposta = \"maior de idade\"\n",
    "else: \n",
    "    resposta = \"menor de idade\"\n",
    "print(\"Sua idade é %d, portanto és %s.\" % (idade,resposta))"
   ]
  },
  {
   "cell_type": "markdown",
   "metadata": {},
   "source": [
    "Neste exemplo, estamos verificando se uma pessoa é maior ou menor de idade. Para tanto, usamos uma instrução de entrada (*input*) para leitura de teclado, cujo texto lido está sendo convertido para inteiro (com a função *int()*) e o número resultante é colocado na variável *idade*.\n",
    "\n",
    "Como o valor digitado pelo usuário estará na variável *idade*, podemos compará-la com 18, vendo se é maior ou igual (primeiro *if*). Observe que foi usado o operador maior igual (***>=***). Seja qual for o resultado da comparação, colocamos um texto na variável *resposta*, que será impresso na última instrução (*print*), juntamente com a idade digitada."
   ]
  },
  {
   "cell_type": "markdown",
   "metadata": {},
   "source": [
    "## 4. Instruções de Repetição\n",
    "São instruções Python usadas para repetir trechos de código, onde seriam necessários várias linhas contendo as mesmas instruções. Genericamente exemplificando, possuem a forma da instrução *para*:\n",
    "```\n",
    "    for <referência> in <sequência>:\n",
    "        <código>\n",
    "```\n",
    "que repete o código na sequência indicada, ou da instrução *enquanto*:\n",
    "```\n",
    "    while <condição>:\n",
    "        <código>\n",
    "```\n",
    "que repete o código enquanto a condição for verdadeira.\n",
    "\n",
    "Nos exemplos a seguir, vamos imprimir os números pares de 0 a 10 com *for*:"
   ]
  },
  {
   "cell_type": "code",
   "execution_count": 48,
   "metadata": {},
   "outputs": [
    {
     "name": "stdout",
     "output_type": "stream",
     "text": [
      "0\n",
      "2\n",
      "4\n",
      "6\n",
      "8\n",
      "10\n"
     ]
    }
   ],
   "source": [
    "for num in range(0,11,2):\n",
    "    print(num)"
   ]
  },
  {
   "cell_type": "markdown",
   "metadata": {},
   "source": [
    "Como a instrução *while* possui uma condição, ela se adequa a transformações realizadas dentro do *laço* de repetição. Por exemplo, um menu de opções:"
   ]
  },
  {
   "cell_type": "code",
   "execution_count": 49,
   "metadata": {},
   "outputs": [
    {
     "name": "stdout",
     "output_type": "stream",
     "text": [
      "Digite um número qualquer ou 0 para sair: 5\n",
      "Digitaste o número: 5\n",
      "Digite um número qualquer ou 0 para sair: 0\n",
      "Tchau!\n"
     ]
    }
   ],
   "source": [
    "opc = 1\n",
    "while opc != 0:\n",
    "    opc = int(input(\"Digite um número qualquer ou 0 para sair: \"))\n",
    "    if opc != 0: \n",
    "        print(\"Digitaste o número:\",opc)\n",
    "    else:\n",
    "        print(\"Tchau!\")"
   ]
  },
  {
   "cell_type": "markdown",
   "metadata": {},
   "source": [
    "## 5. Funções\n",
    "São blocos de código identificados por um nome, que separamos por organização ou porque ele se repete no programa. De forma genérica, usamos na forma:\n",
    "```\n",
    "def funcao(parametro):\n",
    "    <codigo>\n",
    "    return <valor>\n",
    "```\n",
    "\n",
    "Por exemplo, vamos definir uma função para fazer raiz quadrada:"
   ]
  },
  {
   "cell_type": "code",
   "execution_count": 50,
   "metadata": {
    "collapsed": true
   },
   "outputs": [],
   "source": [
    "# função raiz quadrada\n",
    "def rq(a):\n",
    "    return(a**0.5)"
   ]
  },
  {
   "cell_type": "markdown",
   "metadata": {},
   "source": [
    "A seguir, fazemos a parte principal, que chama a função (observa que está dentro do *print*):"
   ]
  },
  {
   "cell_type": "code",
   "execution_count": 51,
   "metadata": {},
   "outputs": [
    {
     "name": "stdout",
     "output_type": "stream",
     "text": [
      "Digite um número para fazer a raiz quadrada: 9\n",
      "O resultado da raiz quadrada de 9 é 3.00\n"
     ]
    }
   ],
   "source": [
    "# parte principal - lê número e chama função\n",
    "num = int(input(\"Digite um número para fazer a raiz quadrada: \"))\n",
    "print(\"O resultado da raiz quadrada de %d é %.2f\" % (num,rq(num)))"
   ]
  },
  {
   "cell_type": "markdown",
   "metadata": {},
   "source": [
    "## 6. Exercícios\n",
    "1) Mostre qual será a saída de tela para as seguintes instruções:\n",
    "```\n",
    "    a) print(\"# OPERADORES ARITMÉTICOS #\")\n",
    "    b) print(\"Soma: 5+2=\",5+2)\n",
    "    c) print(\"Subtração: 5-2=\",5-2)\n",
    "    d) print(\"Divisão: 5/2=\",5/2.0)\n",
    "    e) print(\"Multiplicação: 5*2=\",5*2)\n",
    "    f) print(\"Resto: 5%2=\",5%2)\n",
    "    g) print(\"Potência: 5**2=\",5**2)\n",
    "    h) print(\"# LISTAS #\")\n",
    "    i) print(\"O intervalo de 0 a 5 é \",list(range(6)))\n",
    "    j) print(\"Contagem de 3 a 8: \",list(range(3,9)))\n",
    "    k) print(\"# OPERADORES LÓGICOS #\")\n",
    "    l) print(\"5 é menor que 2?\",5<2)\n",
    "    m) print(\"5 não é menor que 2?\",not(5<2))\n",
    "    n) print(\"5 é maior que 2?\",5>2)\n",
    "    o) print(\"(5+2) > (3+3)?\",(5+2)>(3+3))\n",
    "    p) print(\"(5+1) >= (3+3)?\",(5+1)>=(3+3))\n",
    "    q) print(\"%d == %d ? %s \" % (5+1,3+3,(5+1 == 3+3)))\n",
    "    r) print(\"(5>2) and (10>3)?\",(5>2) and (10>3))\n",
    "    s) print(\"(5>2) and (10<3)?\",(5>2) and (10<3))\n",
    "    t) print(\"(5>2) and not(10<3)?\",(5>2) and not(10<3))\n",
    "    u) print(\"(5>2) or (10>3)?\",(5>2) or (10>3))\n",
    "    v) print(\"(5>2) or (10<3)?\",(5>2) or (10<3))\n",
    "    w) print(\"not(5>2) or (10>3)?\",not(5>2) or (10>3))\n",
    "    x) print(\"10 está no intervalo de 0 a 5?\",10 in range(6))\n",
    "    y) print(\"5+2 está no intervalo de 0 a 8?\",(5+2) in range(9))\n",
    "```  \n",
    "2) Use a instrução *print* para apresentar o resultado das operações a seguir. Mostre a saída em tela.\n",
    "```\n",
    "    a) 10 é maior que 3?\n",
    "    b) 10 é maior que 3 *e* 5 é menor que 7?\n",
    "    c) 10 é maior que 3 *ou* 5 é menor que 7?\n",
    "    d) 10 não está no intervalor de 0 a 7?\n",
    "    e) (5*2) está no intervalor de 1 a 10?\n",
    "```\n",
    "3) Faça um programa python que pergunte se o usuário toma café, chimarrão ou água e diz qual a temperatura ideal de sua bebida. A temperatura ideal para o café é 90 graus e para o chimarrão 80 graus Celsius. A água pode ficar na temperatura ambiente. \n",
    "Dicas: \n",
    "* Use a instrução *input* para ler a opção escolhida.\n",
    "* Coloque números nas opções\n",
    "* Utilize *if/elif/else* para escolher as opções.\n",
    "* Aplique a instrução *print* para fornecer as respostas ao usuário."
   ]
  },
  {
   "cell_type": "markdown",
   "metadata": {},
   "source": [
    "## 7. Referências\n",
    "Para a construção destas notas, foram utilizadas as páginas:\n",
    "* [Documentação Python 3](https://docs.python.org/3/)\n",
    "* [Python 3 - Operadores Básicos](http://www.tutorialspoint.com/python3/python_basic_operators.htm)"
   ]
  }
 ],
 "metadata": {
  "kernelspec": {
   "display_name": "Python 3",
   "language": "python",
   "name": "python3"
  },
  "language_info": {
   "codemirror_mode": {
    "name": "ipython",
    "version": 3
   },
   "file_extension": ".py",
   "mimetype": "text/x-python",
   "name": "python",
   "nbconvert_exporter": "python",
   "pygments_lexer": "ipython3",
   "version": "3.5.3"
  }
 },
 "nbformat": 4,
 "nbformat_minor": 1
}
